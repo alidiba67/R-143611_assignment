{
  "cells": [
    {
      "cell_type": "code",
      "execution_count": null,
      "metadata": {
        "_cell_guid": "b1076dfc-b9ad-4769-8c92-a6c4dae69d19",
        "_uuid": "8f2839f25d086af736a60e9eeb907d3b93b6e0e5",
        "colab": {},
        "colab_type": "code",
        "id": "-H5XMQt5wp-B",
        "outputId": "8405258a-6edb-48ef-efde-fe87e9d38934"
      },
      "outputs": [],
      "source": [
        "# Imports req here\n",
        "from __future__ import print_function, division\n",
        "import numpy as np\n",
        "import matplotlib.pyplot as plt\n",
        "from torch.utils import data\n",
        "import torch\n",
        "from torch import nn\n",
        "from torch import optim\n",
        "import torchvision\n",
        "import torch.nn.functional as F\n",
        "from torchvision import datasets, transforms, models\n",
        "import torchvision.models as models\n",
        "from torch.utils.data.sampler import SubsetRandomSampler\n",
        "from torch.utils.data import Dataset, DataLoader\n",
        "from torch.optim import lr_scheduler\n",
        "import torch.utils.data as data_utils\n",
        "\n",
        "from skimage import io, transform\n",
        "from PIL import Image, ImageFile\n",
        "import json\n",
        "import time\n",
        "import os\n",
        "import argparse\n",
        "import pandas as pd\n",
        "ImageFile.LOAD_TRUNCATED_IMAGES = True\n",
        "import cv2\n",
        "import sklearn\n",
        "from sklearn.metrics import cohen_kappa_score, accuracy_score\n",
        "from tqdm import tqdm_notebook\n",
        "import seaborn as sns\n",
        "\n",
        "data_dir = \"aptos2019-blindness-detection\"\n",
        "torch.cuda.empty_cache()"
      ]
    },
    {
      "cell_type": "markdown",
      "metadata": {
        "colab_type": "text",
        "id": "Mkb_neoqwp-6"
      },
      "source": [
        "# Loading Data\n"
      ]
    },
    {
      "cell_type": "code",
      "execution_count": null,
      "metadata": {
        "_cell_guid": "79c7e3d0-c299-4dcb-8224-4455121ee9b0",
        "_uuid": "d629ff2d2480ee46fbb7e2d37f6b5fab8052498a",
        "colab": {},
        "colab_type": "code",
        "id": "hkyWGmomwp-7"
      },
      "outputs": [],
      "source": [
        "train_csv = pd.read_csv('aptos2019-blindness-detection/train.csv')\n",
        "test_csv = pd.read_csv('aptos2019-blindness-detection/test.csv')\n",
        "print('Number of Train Images  = {}'.format(len(train_csv)))\n",
        "print('Number of Test Images = {}'.format(len(test_csv)))"
      ]
    },
    {
      "cell_type": "code",
      "execution_count": null,
      "metadata": {
        "colab": {},
        "colab_type": "code",
        "id": "jgR8VptTwp_C",
        "outputId": "898edfe9-0fd2-4edc-c23a-14a3b5d295be"
      },
      "outputs": [],
      "source": [
        "train_csv.head()"
      ]
    },
    {
      "cell_type": "code",
      "execution_count": null,
      "metadata": {
        "colab": {},
        "colab_type": "code",
        "id": "vgygoo4Vwp_F",
        "outputId": "dff17c47-0a34-45ce-ff5f-83fcf0463047"
      },
      "outputs": [],
      "source": [
        "counts = train_csv['diagnosis'].value_counts()\n",
        "class_list = ['No DR', 'Mild', 'Moderate', 'Severe', 'Proliferate']\n",
        "for i,x in enumerate(class_list):\n",
        "    counts[x] = counts.pop(i)\n",
        "plt.figure(figsize=(10,5))\n",
        "sns.barplot(counts.index, counts.values, alpha=0.8, palette='bright')\n",
        "plt.title('Number of Samples per class Classes')\n",
        "plt.ylabel('Number of Samples', fontsize=12)\n",
        "plt.xlabel('Classes', fontsize=12)\n",
        "plt.show()"
      ]
    },
    {
      "cell_type": "markdown",
      "metadata": {
        "colab_type": "text",
        "id": "k7jDZc3twp_H"
      },
      "source": [
        "# Visualizing Training Data"
      ]
    },
    {
      "cell_type": "code",
      "execution_count": null,
      "metadata": {
        "colab": {},
        "colab_type": "code",
        "id": "Ax11I6Zswp_I",
        "outputId": "38d1e936-008b-4703-8ea9-110ed0880eb3"
      },
      "outputs": [],
      "source": [
        "fig = plt.figure(figsize=(30, 6))\n",
        "# display 20 images\n",
        "num_imgtoshow = 30\n",
        "train_imgs = os.listdir(data_dir+\"/train_images\")\n",
        "for idx, img in enumerate(np.random.choice(train_imgs, num_imgtoshow)):\n",
        "    ax = fig.add_subplot(5, num_imgtoshow//5, idx+1, xticks=[], yticks=[])\n",
        "    im = Image.open(data_dir+\"/train_images/\" + img)\n",
        "    plt.imshow(im)\n",
        "    lab = train_csv.loc[train_csv['id_code'] == img.split('.')[0], 'diagnosis'].values[0]\n",
        "    ax.set_title('Severity: %s'%lab)"
      ]
    },
    {
      "cell_type": "markdown",
      "metadata": {
        "colab_type": "text",
        "id": "1ahpFGSqwp_O"
      },
      "source": [
        "# Data Processing"
      ]
    },
    {
      "cell_type": "code",
      "execution_count": null,
      "metadata": {
        "colab": {},
        "colab_type": "code",
        "id": "QfvxpUdcwp_P"
      },
      "outputs": [],
      "source": [
        "# Our own custom class for datasets\n",
        "class CreateDataset(Dataset):\n",
        "    def __init__(self, df_data, data_dir = 'data', transform=None):\n",
        "        super().__init__()\n",
        "        self.df = df_data.values\n",
        "        self.data_dir = data_dir\n",
        "        self.transform = transform\n",
        "\n",
        "    def __len__(self):\n",
        "        return len(self.df)\n",
        "    \n",
        "    def __getitem__(self, index):\n",
        "        img_name,label = self.df[index]\n",
        "        img_path = os.path.join(self.data_dir, img_name+'.png')\n",
        "        image = cv2.imread(img_path)\n",
        "        if self.transform is not None:\n",
        "            image = self.transform(image)\n",
        "        return image, label"
      ]
    },
    {
      "cell_type": "code",
      "execution_count": null,
      "metadata": {
        "colab": {},
        "colab_type": "code",
        "id": "usFGpYV9wp_R"
      },
      "outputs": [],
      "source": [
        "train_transforms = transforms.Compose([\n",
        "    transforms.ToPILImage(),\n",
        "    transforms.Resize((224, 224)),\n",
        "    transforms.RandomHorizontalFlip(p=0.4),\n",
        "    #transforms.ColorJitter(brightness=2, contrast=2),\n",
        "    transforms.ToTensor(),\n",
        "    transforms.Normalize(mean=(0.485, 0.456, 0.406), std=(0.229, 0.224, 0.225))\n",
        "])"
      ]
    },
    {
      "cell_type": "code",
      "execution_count": null,
      "metadata": {
        "colab": {},
        "colab_type": "code",
        "id": "3LvQYjjzwp_U"
      },
      "outputs": [],
      "source": [
        "test_transforms = transforms.Compose([transforms.Resize(256),\n",
        "                                      transforms.CenterCrop(224),\n",
        "                                      transforms.ToTensor(),\n",
        "                                      transforms.Normalize([0.485, 0.456, 0.406],[0.229, 0.224, 0.225])])"
      ]
    },
    {
      "cell_type": "code",
      "execution_count": null,
      "metadata": {
        "colab": {},
        "colab_type": "code",
        "id": "mF_yP6FVwp_W"
      },
      "outputs": [],
      "source": [
        "train_path = \"aptos2019-blindness-detection/train_images/\"\n",
        "test_path = \"aptos2019-blindness-detection/test_images/\""
      ]
    },
    {
      "cell_type": "code",
      "execution_count": null,
      "metadata": {
        "colab": {},
        "colab_type": "code",
        "id": "rkUVBpU7wp_Z"
      },
      "outputs": [],
      "source": [
        "train_data = CreateDataset(df_data=train_csv, data_dir=train_path, transform=train_transforms)\n",
        "test_data = CreateDataset(df_data=test_csv, data_dir=test_path, transform=test_transforms)\n",
        "    "
      ]
    },
    {
      "cell_type": "code",
      "execution_count": null,
      "metadata": {
        "colab": {},
        "colab_type": "code",
        "id": "BE_W-n38wp_c"
      },
      "outputs": [],
      "source": [
        "valid_size = 0.2\n",
        "num_train = len(train_data)\n",
        "indices = list(range(num_train))\n",
        "np.random.shuffle(indices)\n",
        "split = int(np.floor(valid_size * num_train))\n",
        "train_idx, valid_idx = indices[split:], indices[:split]\n"
      ]
    },
    {
      "cell_type": "code",
      "execution_count": null,
      "metadata": {
        "colab": {},
        "colab_type": "code",
        "id": "i14OtQz0wp_e"
      },
      "outputs": [],
      "source": [
        "train_sampler = SubsetRandomSampler(train_idx)\n",
        "valid_sampler = SubsetRandomSampler(valid_idx)"
      ]
    },
    {
      "cell_type": "code",
      "execution_count": null,
      "metadata": {
        "colab": {},
        "colab_type": "code",
        "id": "oSPMv1iewp_h"
      },
      "outputs": [],
      "source": [
        "trainloader = torch.utils.data.DataLoader(train_data, batch_size=256,sampler=train_sampler)\n",
        "validloader = torch.utils.data.DataLoader(train_data, batch_size=256, sampler=valid_sampler)\n",
        "testloader = torch.utils.data.DataLoader(test_data, batch_size=256)\n",
        "print(f\"Training samples : {len(train_data)}\")\n",
        "print(f\"Testing samples : {len(test_data)}\")\n",
        "print(len(trainloader))\n",
        "print(len(validloader))\n",
        "print(len(testloader))"
      ]
    },
    {
      "cell_type": "code",
      "execution_count": null,
      "metadata": {
        "colab": {},
        "colab_type": "code",
        "id": "I63353zewp_l",
        "outputId": "229d7b10-ecaf-49bd-f25b-81816dab9a5d"
      },
      "outputs": [],
      "source": [
        "# Checking some of images data and the labels\n",
        "images, labels = next(iter(trainloader))\n",
        "\n",
        "# Checking shape of image\n",
        "print(f\"Image shape : {images.shape}\")\n",
        "print(f\"Label shape : {labels.shape}\")\n",
        "print('labels:', labels)    \n"
      ]
    },
    {
      "cell_type": "code",
      "execution_count": null,
      "metadata": {
        "colab": {},
        "colab_type": "code",
        "id": "jqPov202wp_w",
        "outputId": "67396e4a-21e5-4007-d67b-1d913cddcdab"
      },
      "outputs": [],
      "source": [
        "train_on_gpu = torch.cuda.is_available()\n",
        "if not train_on_gpu:\n",
        "    print('CUDA is not available.  Training on CPU ...')\n",
        "else:\n",
        "    print('CUDA is available!  Training on GPU ...')"
      ]
    },
    {
      "cell_type": "code",
      "execution_count": null,
      "metadata": {
        "colab": {},
        "colab_type": "code",
        "id": "YWTE2JVxwp_1"
      },
      "outputs": [],
      "source": [
        "#Training using a pre-trained ResNet18 model\n",
        "\n",
        "device = torch.device(\"cuda\" if torch.cuda.is_available() else \"cpu\")\n",
        "model = models.resnet18(pretrained=True) \n",
        "num_ftrs = model.fc.in_features \n",
        "out_ftrs = 5 \n",
        "  \n",
        "model.fc = nn.Sequential(nn.Linear(num_ftrs, 512),nn.ReLU(),nn.Linear(512,out_ftrs),nn.LogSoftmax(dim=1))\n",
        "criterion = nn.NLLLoss()\n",
        "optimizer = torch.optim.Adam(filter(lambda p:p.requires_grad,model.parameters()) , lr = 0.00001) \n",
        "\n",
        "scheduler = lr_scheduler.StepLR(optimizer, step_size=5, gamma=0.1)\n",
        "model.to(device);"
      ]
    },
    {
      "cell_type": "code",
      "execution_count": null,
      "metadata": {
        "colab": {},
        "colab_type": "code",
        "id": "v4Hn2lk4wp_4"
      },
      "outputs": [],
      "source": [
        "model_save_name = 'classifier.pt'\n",
        "path = F\"models/{model_save_name}\""
      ]
    },
    {
      "cell_type": "code",
      "execution_count": null,
      "metadata": {
        "colab": {},
        "colab_type": "code",
        "id": "9ETX_27awp_7",
        "outputId": "b7d030e9-e9bb-4dde-d592-0c8c50167d6f"
      },
      "outputs": [],
      "source": [
        "# to unfreeze more layers \n",
        "for name,child in model.named_children():\n",
        "  if name in ['layer2','layer3','layer4','fc']:\n",
        "    print(name + 'is unfrozen')\n",
        "    for param in child.parameters():\n",
        "      param.requires_grad = True\n",
        "  else:\n",
        "    print(name + 'is frozen')\n",
        "    for param in child.parameters():\n",
        "      param.requires_grad = False"
      ]
    },
    {
      "cell_type": "code",
      "execution_count": null,
      "metadata": {
        "colab": {},
        "colab_type": "code",
        "id": "iOF-Abo-wp_-"
      },
      "outputs": [],
      "source": [
        "optimizer = torch.optim.Adam(filter(lambda p:p.requires_grad,model.parameters()) , lr = 0.000001) \n",
        "scheduler = lr_scheduler.StepLR(optimizer, step_size=5, gamma=0.1)"
      ]
    },
    {
      "cell_type": "code",
      "execution_count": null,
      "metadata": {
        "colab": {},
        "colab_type": "code",
        "id": "G0sprIg3wqAB"
      },
      "outputs": [],
      "source": [
        "def load_model(path):\n",
        "  checkpoint = torch.load(path)\n",
        "  model.load_state_dict(checkpoint['model_state_dict'])\n",
        "  optimizer.load_state_dict(checkpoint['optimizer_state_dict'])\n",
        "  return model"
      ]
    },
    {
      "cell_type": "code",
      "execution_count": null,
      "metadata": {
        "colab": {},
        "colab_type": "code",
        "id": "7gndNUYIwqAD"
      },
      "outputs": [],
      "source": [
        "if os.path.isfile(\"models/classifier.pt\"): \n",
        "    print(\"Loading Pre-trained model\")\n",
        "    model = load_model(\"models/classifier.pt\")\n"
      ]
    },
    {
      "cell_type": "code",
      "execution_count": null,
      "metadata": {
        "colab": {},
        "colab_type": "code",
        "id": "3LIwOcNzwqAH",
        "outputId": "fc685b55-eaa3-4e71-b55b-51a0c43f19eb"
      },
      "outputs": [],
      "source": [
        "pytorch_total_params = sum(p.numel() for p in model.parameters() if p.requires_grad)\n",
        "print(\"Number of trainable parameters: \\n{}\".format(pytorch_total_params))"
      ]
    },
    {
      "cell_type": "code",
      "execution_count": null,
      "metadata": {
        "colab": {},
        "colab_type": "code",
        "id": "rHB2XhSzwqAK"
      },
      "outputs": [],
      "source": [
        "def train_and_test(epoch_number):\n",
        "    epochs = epoch_number\n",
        "    train_losses , test_losses, acc = [] , [], []\n",
        "    valid_loss_min = np.Inf \n",
        "    model.train()\n",
        "    \n",
        "    print(\"Model Training started.....\")\n",
        "    for epoch in range(epochs):\n",
        "      running_loss = 0\n",
        "      batch = 0\n",
        "      for images , labels in trainloader:\n",
        "        images, labels = images.to(device), labels.to(device)\n",
        "        optimizer.zero_grad()\n",
        "        outputs = model(images)\n",
        "        loss = criterion(outputs,labels)\n",
        "        loss.backward()\n",
        "        optimizer.step()\n",
        "        running_loss += loss.item()\n",
        "        batch += 1\n",
        "        if batch % 10 == 0:\n",
        "            print(f\" epoch {epoch + 1} batch {batch} completed\") \n",
        "      test_loss = 0\n",
        "      accuracy = 0\n",
        "\n",
        "      with torch.no_grad():\n",
        "        print(f\"validation started for {epoch + 1}\")\n",
        "        model.eval() \n",
        "        for images , labels in validloader:\n",
        "          images, labels = images.to(device), labels.to(device)\n",
        "          logps = model(images) \n",
        "          test_loss += criterion(logps,labels) \n",
        "          ps = torch.exp(logps)\n",
        "          top_p , top_class = ps.topk(1,dim=1)\n",
        "          equals = top_class == labels.view(*top_class.shape)\n",
        "          accuracy += torch.mean(equals.type(torch.FloatTensor))\n",
        "      train_losses.append(running_loss/len(trainloader))\n",
        "      test_losses.append(test_loss/len(validloader))\n",
        "      acc.append(accuracy)\n",
        "      scheduler.step()\n",
        "\n",
        "      print(\"Epoch: {}/{}.. \".format(epoch+1, epochs),\"Training Loss: {:.3f}.. \".format(running_loss/len(trainloader)),\"Valid Loss: {:.3f}.. \".format(test_loss/len(validloader)),\n",
        "        \"Valid Accuracy: {:.3f}\".format(accuracy/len(validloader)))\n",
        "\n",
        "      model.train() \n",
        "      if test_loss/len(validloader) <= valid_loss_min:\n",
        "        print('Validation loss decreased ({:.6f} --> {:.6f}).  Saving model ...'.format(valid_loss_min,test_loss/len(validloader))) \n",
        "        torch.save({\n",
        "            'epoch': epoch,\n",
        "            'model': model,\n",
        "            'model_state_dict': model.state_dict(),\n",
        "            'optimizer_state_dict': optimizer.state_dict(),\n",
        "            'loss': valid_loss_min\n",
        "            }, path)\n",
        "        valid_loss_min = test_loss/len(validloader)  \n",
        "\n",
        "    print('Training Completed Succesfully !')    \n",
        "    return train_losses, test_losses, acc "
      ]
    },
    {
      "cell_type": "code",
      "execution_count": null,
      "metadata": {
        "colab": {},
        "colab_type": "code",
        "id": "9X7zW47awqAM",
        "outputId": "d514b4d2-f42e-4991-f326-ec1c68056c6d"
      },
      "outputs": [],
      "source": [
        "train_losses, valid_losses, acc = train_and_test(epoch_number = 10)"
      ]
    },
    {
      "cell_type": "code",
      "execution_count": null,
      "metadata": {
        "colab": {},
        "colab_type": "code",
        "id": "zq572wFDwqAO",
        "outputId": "b12538f5-6eef-4284-b7af-7bca45cabb9f"
      },
      "outputs": [],
      "source": [
        "%matplotlib inline\n",
        "%config InlineBackend.figure_format = 'retina'\n",
        "\n",
        "plt.plot(train_losses, label    ='train_')\n",
        "plt.plot(valid_losses, label='Validation loss')\n",
        "plt.xlabel(\"Epochs\")\n",
        "plt.ylabel(\"Loss\")\n",
        "plt.legend(frameon=False)"
      ]
    }
  ],
  "metadata": {
    "colab": {
      "include_colab_link": true,
      "name": "training.ipynb",
      "provenance": []
    },
    "kernelspec": {
      "display_name": "Python 3.6.9 64-bit",
      "language": "python",
      "name": "python3"
    },
    "language_info": {
      "codemirror_mode": {
        "name": "ipython",
        "version": 3
      },
      "file_extension": ".py",
      "mimetype": "text/x-python",
      "name": "python",
      "nbconvert_exporter": "python",
      "pygments_lexer": "ipython3",
      "version": "3.6.9"
    },
    "vscode": {
      "interpreter": {
        "hash": "767d51c1340bd893661ea55ea3124f6de3c7a262a8b4abca0554b478b1e2ff90"
      }
    }
  },
  "nbformat": 4,
  "nbformat_minor": 0
}
